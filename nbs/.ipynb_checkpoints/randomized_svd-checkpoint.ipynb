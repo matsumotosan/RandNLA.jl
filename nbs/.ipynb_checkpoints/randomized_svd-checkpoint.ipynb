{
 "cells": [
  {
   "cell_type": "markdown",
   "id": "e2c333a4-530d-493c-bbed-3e72828b400c",
   "metadata": {},
   "source": [
    "# Randomized SVD"
   ]
  },
  {
   "cell_type": "code",
   "execution_count": 2,
   "id": "cf1572b3-bc16-4ddf-836d-7d724f109ba9",
   "metadata": {},
   "outputs": [
    {
     "name": "stderr",
     "output_type": "stream",
     "text": [
      "┌ Info: Precompiling RandNLA [0750558e-973b-4abb-bff8-906a36e76738]\n",
      "└ @ Base loading.jl:1423\n"
     ]
    }
   ],
   "source": [
    "using RandNLA"
   ]
  },
  {
   "cell_type": "code",
   "execution_count": null,
   "id": "5cd06ae5-d950-4fc7-9e78-7c29719c7cbc",
   "metadata": {},
   "outputs": [],
   "source": []
  }
 ],
 "metadata": {
  "kernelspec": {
   "display_name": "Julia 1.7.3",
   "language": "julia",
   "name": "julia-1.7"
  },
  "language_info": {
   "file_extension": ".jl",
   "mimetype": "application/julia",
   "name": "julia",
   "version": "1.7.3"
  }
 },
 "nbformat": 4,
 "nbformat_minor": 5
}
